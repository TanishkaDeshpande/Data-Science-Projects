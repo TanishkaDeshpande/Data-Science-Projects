{
 "cells": [
  {
   "cell_type": "code",
   "execution_count": 109,
   "metadata": {},
   "outputs": [],
   "source": [
    "import streamlit as st\n",
    "import pandas as pd\n",
    "import folium\n",
    "from streamlit_folium import folium_static\n",
    "import datetime\n",
    "import plotly.express as px"
   ]
  },
  {
   "cell_type": "code",
   "execution_count": 85,
   "metadata": {},
   "outputs": [
    {
     "name": "stdout",
     "output_type": "stream",
     "text": [
      "<bound method NDFrame.head of                DATE   TIME    BOROUGH  ZIP CODE   LATITUDE  LONGITUDE  \\\n",
      "0        09-11-2021  02:39        NaN       NaN        NaN        NaN   \n",
      "1        03/26/2022  11:45        NaN       NaN        NaN        NaN   \n",
      "2        06/29/2022  06:55        NaN       NaN        NaN        NaN   \n",
      "3        09-11-2021  09:35   BROOKLYN   11208.0  40.667202 -73.866500   \n",
      "4        12/14/2021  08:13   BROOKLYN   11233.0  40.683304 -73.917274   \n",
      "...             ...    ...        ...       ...        ...        ...   \n",
      "1048570  09-07-2016  20:10        NaN       NaN  40.715813 -73.940025   \n",
      "1048571  09-02-2016  13:00        NaN       NaN  40.681446 -73.946440   \n",
      "1048572  09-04-2016  05:00        NaN       NaN  40.810333 -73.953640   \n",
      "1048573  09-10-2016  18:39  MANHATTAN   10011.0  40.746490 -74.001335   \n",
      "1048574  08/22/2016  15:30     QUEENS   11414.0  40.665504 -73.856120   \n",
      "\n",
      "                        LOCATION                    ON STREET NAME  \\\n",
      "0                            NaN             WHITESTONE EXPRESSWAY   \n",
      "1                            NaN           QUEENSBORO BRIDGE UPPER   \n",
      "2                            NaN                THROGS NECK BRIDGE   \n",
      "3          (40.667202, -73.8665)                               NaN   \n",
      "4        (40.683304, -73.917274)                   SARATOGA AVENUE   \n",
      "...                          ...                               ...   \n",
      "1048570  (40.715813, -73.940025)  MASPETH AVENUE                     \n",
      "1048571   (40.681446, -73.94644)  MARCY AVENUE                       \n",
      "1048572   (40.810333, -73.95364)  WEST 124 STREET                    \n",
      "1048573   (40.74649, -74.001335)  WEST 23 STREET                     \n",
      "1048574   (40.665504, -73.85612)  153 AVENUE                         \n",
      "\n",
      "        CROSS STREET NAME          OFF STREET NAME  ...  \\\n",
      "0               20 AVENUE                      NaN  ...   \n",
      "1                     NaN                      NaN  ...   \n",
      "2                     NaN                      NaN  ...   \n",
      "3                     NaN  1211      LORING AVENUE  ...   \n",
      "4          DECATUR STREET                      NaN  ...   \n",
      "...                   ...                      ...  ...   \n",
      "1048570               NaN                      NaN  ...   \n",
      "1048571               NaN                      NaN  ...   \n",
      "1048572               NaN                      NaN  ...   \n",
      "1048573          9 AVENUE                      NaN  ...   \n",
      "1048574         78 STREET                      NaN  ...   \n",
      "\n",
      "         CONTRIBUTING FACTOR VEHICLE 2  CONTRIBUTING FACTOR VEHICLE 3  \\\n",
      "0                          Unspecified                            NaN   \n",
      "1                                  NaN                            NaN   \n",
      "2                          Unspecified                            NaN   \n",
      "3                                  NaN                            NaN   \n",
      "4                                  NaN                            NaN   \n",
      "...                                ...                            ...   \n",
      "1048570                    Unspecified                            NaN   \n",
      "1048571                    Unspecified                            NaN   \n",
      "1048572                    Unspecified                            NaN   \n",
      "1048573                    Unspecified                    Unspecified   \n",
      "1048574                    Unspecified                            NaN   \n",
      "\n",
      "         CONTRIBUTING FACTOR VEHICLE 4  CONTRIBUTING FACTOR VEHICLE 5  \\\n",
      "0                                  NaN                            NaN   \n",
      "1                                  NaN                            NaN   \n",
      "2                                  NaN                            NaN   \n",
      "3                                  NaN                            NaN   \n",
      "4                                  NaN                            NaN   \n",
      "...                                ...                            ...   \n",
      "1048570                            NaN                            NaN   \n",
      "1048571                            NaN                            NaN   \n",
      "1048572                            NaN                            NaN   \n",
      "1048573                            NaN                            NaN   \n",
      "1048574                            NaN                            NaN   \n",
      "\n",
      "         COLLISION_ID                  VEHICLE TYPE CODE 1  \\\n",
      "0             4455765                                Sedan   \n",
      "1             4513547                                Sedan   \n",
      "2             4541903                                Sedan   \n",
      "3             4456314                                Sedan   \n",
      "4             4486609                                  NaN   \n",
      "...               ...                                  ...   \n",
      "1048570       3515581                                Sedan   \n",
      "1048571       3512130                                Sedan   \n",
      "1048572       3513248                                 Taxi   \n",
      "1048573       3517244  Station Wagon/Sport Utility Vehicle   \n",
      "1048574       3505598                          Convertible   \n",
      "\n",
      "                         VEHICLE TYPE CODE 2  VEHICLE TYPE CODE 3  \\\n",
      "0                                      Sedan                  NaN   \n",
      "1                                        NaN                  NaN   \n",
      "2                              Pick-up Truck                  NaN   \n",
      "3                                        NaN                  NaN   \n",
      "4                                        NaN                  NaN   \n",
      "...                                      ...                  ...   \n",
      "1048570                                 Bike                  NaN   \n",
      "1048571                                Sedan                  NaN   \n",
      "1048572                                Sedan                  NaN   \n",
      "1048573                                Sedan                Sedan   \n",
      "1048574  Station Wagon/Sport Utility Vehicle                  NaN   \n",
      "\n",
      "        VEHICLE TYPE CODE 4 VEHICLE TYPE CODE 5  \n",
      "0                       NaN                 NaN  \n",
      "1                       NaN                 NaN  \n",
      "2                       NaN                 NaN  \n",
      "3                       NaN                 NaN  \n",
      "4                       NaN                 NaN  \n",
      "...                     ...                 ...  \n",
      "1048570                 NaN                 NaN  \n",
      "1048571                 NaN                 NaN  \n",
      "1048572                 NaN                 NaN  \n",
      "1048573                 NaN                 NaN  \n",
      "1048574                 NaN                 NaN  \n",
      "\n",
      "[1048575 rows x 29 columns]>\n"
     ]
    }
   ],
   "source": [
    "# Load the data\n",
    "df = pd.read_csv('MVCollisionDataset.csv')\n",
    "print(df.head)\n"
   ]
  },
  {
   "cell_type": "code",
   "execution_count": 86,
   "metadata": {},
   "outputs": [],
   "source": [
    "# Set page title and layout\n",
    "st.set_page_config(page_title=\"NYC Motor Vehicle Collisions\", page_icon=\":car:\", layout=\"wide\")"
   ]
  },
  {
   "cell_type": "code",
   "execution_count": 87,
   "metadata": {},
   "outputs": [
    {
     "name": "stdout",
     "output_type": "stream",
     "text": [
      "Index(['DATE', 'TIME', 'BOROUGH', 'ZIP CODE', 'LATITUDE', 'LONGITUDE',\n",
      "       'LOCATION', 'ON STREET NAME', 'CROSS STREET NAME', 'OFF STREET NAME',\n",
      "       'NUMBER OF PERSONS INJURED', 'NUMBER OF PERSONS KILLED',\n",
      "       'NUMBER OF PEDESTRIANS INJURED', 'NUMBER OF PEDESTRIANS KILLED',\n",
      "       'NUMBER OF CYCLIST INJURED', 'NUMBER OF CYCLIST KILLED',\n",
      "       'NUMBER OF MOTORIST INJURED', 'NUMBER OF MOTORIST KILLED',\n",
      "       'CONTRIBUTING FACTOR VEHICLE 1', 'CONTRIBUTING FACTOR VEHICLE 2',\n",
      "       'CONTRIBUTING FACTOR VEHICLE 3', 'CONTRIBUTING FACTOR VEHICLE 4',\n",
      "       'CONTRIBUTING FACTOR VEHICLE 5', 'COLLISION_ID', 'VEHICLE TYPE CODE 1',\n",
      "       'VEHICLE TYPE CODE 2', 'VEHICLE TYPE CODE 3', 'VEHICLE TYPE CODE 4',\n",
      "       'VEHICLE TYPE CODE 5'],\n",
      "      dtype='object')\n"
     ]
    }
   ],
   "source": [
    "print(df.columns)"
   ]
  },
  {
   "cell_type": "code",
   "execution_count": 102,
   "metadata": {},
   "outputs": [],
   "source": [
    "# Set up the sidebar\n",
    "st.sidebar.title(\"Filters\")\n",
    "time_range = st.sidebar.slider(\n",
    "    \"Time range\",\n",
    "    min_value=pd.to_datetime(df['TIME'], format='%H:%M').min().time(),\n",
    "    max_value=pd.to_datetime(df['TIME'], format='%H:%M').max().time(),\n",
    ")\n",
    "time_range_str = (str(time_range.hour).zfill(2) + ':' + str(time_range.minute).zfill(2),\n",
    "                  str(time_range.hour).zfill(2) + ':' + str(time_range.minute + 1).zfill(2))\n",
    "filtered_data = df[\n",
    "    (pd.to_datetime(df['TIME'], format='%H:%M').dt.strftime('%H:%M').between(*time_range_str))\n",
    "]\n"
   ]
  },
  {
   "cell_type": "code",
   "execution_count": 105,
   "metadata": {},
   "outputs": [
    {
     "data": {
      "text/plain": [
       "DeltaGenerator()"
      ]
     },
     "execution_count": 105,
     "metadata": {},
     "output_type": "execute_result"
    }
   ],
   "source": [
    "# Show the map\n",
    "st.header(\"Motor Vehicle Collisions in NYC\")\n",
    "st.subheader(\"Map\")\n",
    "st.markdown(\"Filtered by date range and borough, if selected\")\n",
    "st.map(filtered_data[['LATITUDE', 'LONGITUDE']].dropna(how=\"any\"))"
   ]
  },
  {
   "cell_type": "code",
   "execution_count": 118,
   "metadata": {},
   "outputs": [],
   "source": [
    "def plot_collisions_by_borough(data):\n",
    "    st.write(\"Number of Collisions by Borough\")\n",
    "    collisions_by_borough = data[\"BOROUGH\"].value_counts().reset_index()\n",
    "    collisions_by_borough.columns = [\"Borough\", \"Number of Collisions\"]\n",
    "    collisions_by_borough = collisions_by_borough.sort_values(by=\"Number of Collisions\", ascending=False)\n",
    "    fig = px.bar(collisions_by_borough, x=\"Borough\", y=\"Number of Collisions\")\n",
    "    st.plotly_chart(fig)"
   ]
  },
  {
   "cell_type": "code",
   "execution_count": 131,
   "metadata": {},
   "outputs": [],
   "source": [
    "def plot_collision_map(data):\n",
    "    st.write(\"Location of Collisions\")\n",
    "    tooltip_cols = [\"DATE\", \"TIME\", \"BOROUGH\", \"ZIP CODE\", \"LATITUDE\", \"LONGITUDE\", \"NUMBER OF PERSONS INJURED\", \"NUMBER OF PERSONS KILLED\", \"CONTRIBUTING FACTOR VEHICLE 1\"]\n",
    "    fig = px.scatter_mapbox(\n",
    "        data,\n",
    "        lat=\"LATITUDE\",\n",
    "        lon=\"LONGITUDE\",\n",
    "        hover_name=\"DATE\",\n",
    "        hover_data=tooltip_cols,\n",
    "        color_discrete_sequence=[\"red\"],\n",
    "        zoom=9,\n",
    "        height=600,\n",
    "    )\n",
    "    fig.update_layout(mapbox_style=\"open-street-map\")\n",
    "    st.plotly_chart(fig)"
   ]
  },
  {
   "cell_type": "code",
   "execution_count": 132,
   "metadata": {},
   "outputs": [],
   "source": [
    "\n",
    "def main():\n",
    "    st.set_page_config(page_title=\"Motor Vehicle Collisions in NYC\", page_icon=\":car:\", layout=\"wide\")\n",
    "    st.title(\"Motor Vehicle Collisions in NYC\")\n",
    "\n",
    "    plot_collisions_by_borough(df)\n",
    "\n",
    "\n",
    "    plot_collision_map(df)\n",
    "\n",
    "\n",
    "if __name__ == \"__main__\":\n",
    "    main()"
   ]
  },
  {
   "cell_type": "code",
   "execution_count": 107,
   "metadata": {},
   "outputs": [
    {
     "data": {
      "text/plain": [
       "DeltaGenerator()"
      ]
     },
     "execution_count": 107,
     "metadata": {},
     "output_type": "execute_result"
    }
   ],
   "source": [
    "# Show the data table\n",
    "st.subheader(\"Data Table\")\n",
    "st.markdown(\"Filtered by date range and borough, if selected\")\n",
    "st.dataframe(filtered_data[['DATE','TIME', 'BOROUGH', 'ZIP CODE', 'LATITUDE', 'LONGITUDE']])"
   ]
  }
 ],
 "metadata": {
  "kernelspec": {
   "display_name": "Python 3",
   "language": "python",
   "name": "python3"
  },
  "language_info": {
   "codemirror_mode": {
    "name": "ipython",
    "version": 3
   },
   "file_extension": ".py",
   "mimetype": "text/x-python",
   "name": "python",
   "nbconvert_exporter": "python",
   "pygments_lexer": "ipython3",
   "version": "3.9.6"
  },
  "orig_nbformat": 4
 },
 "nbformat": 4,
 "nbformat_minor": 2
}
